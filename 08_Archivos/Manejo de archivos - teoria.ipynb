{
 "cells": [
  {
   "cell_type": "markdown",
   "metadata": {},
   "source": [
    "# <center>**08 - MANEJO DE ARCHIVOS**</center>"
   ]
  },
  {
   "cell_type": "markdown",
   "metadata": {},
   "source": [
    "En python se pueden controlar distintos tipos de archivos. Podemos crearlos, leerlos, escribirlos, modificarlos, etc. Esto nos permite trabajar con datos de distintas fuentes, como archivos de texto, archivos de audio, archivos de video, bases de datos, etc."
   ]
  },
  {
   "cell_type": "markdown",
   "metadata": {},
   "source": [
    "## 1. Apertura de archivos\n",
    "\n",
    "Para abrir un archivo en python se utiliza la función `open()`. Esta función recibe dos parámetros: el nombre del archivo y el modo de apertura. El modo de apertura puede ser de lectura, escritura o ambos. El modo de apertura se indica con una letra:\n",
    "\n",
    "* `r`: modo de lectura.\n",
    "* `w`: modo de escritura.\n",
    "* `a`: modo de escritura, pero agregando el contenido al final del archivo.\n",
    "* `r+`: modo de lectura y escritura.\n",
    "\n",
    "Por defecto, si no se indica el modo de apertura, se asume que es de lectura."
   ]
  },
  {
   "cell_type": "code",
   "execution_count": null,
   "metadata": {},
   "outputs": [],
   "source": [
    "archivo = open(\"texto.txt\", \"r\")"
   ]
  },
  {
   "cell_type": "markdown",
   "metadata": {},
   "source": [
    "Una vez abierto el archivo, se puede leer o escribir en él. Para ello, se utilizan los métodos `read()` y `write()`. El método `read()` lee todo el contenido del archivo y lo devuelve como un string. El método `write()` escribe el string que recibe como parámetro en el archivo."
   ]
  },
  {
   "cell_type": "code",
   "execution_count": null,
   "metadata": {},
   "outputs": [],
   "source": [
    "contenido = archivo.read()\n",
    "print(contenido)"
   ]
  },
  {
   "cell_type": "markdown",
   "metadata": {},
   "source": [
    "Siempre al finalizar el trabajo con un archivo, se debe cerrar. Para ello, se utiliza el método `close()`."
   ]
  },
  {
   "cell_type": "code",
   "execution_count": null,
   "metadata": {},
   "outputs": [],
   "source": [
    "archivo.close()"
   ]
  },
  {
   "cell_type": "markdown",
   "metadata": {},
   "source": [
    "Recordar que para escribir en un archivo, este debe haber sido abierto en modo de escritura. Si se intenta escribir en un archivo abierto en modo de lectura, se producirá un error."
   ]
  },
  {
   "cell_type": "code",
   "execution_count": null,
   "metadata": {},
   "outputs": [],
   "source": [
    "archivo = open(\"texto.txt\", \"a\")\n",
    "archivo.write(\"\\nAgregando texto al archivo\")\n",
    "archivo.close()"
   ]
  },
  {
   "cell_type": "markdown",
   "metadata": {},
   "source": [
    "Cuando se abre un archivo, se crea un objeto de tipo `file`. Este objeto tiene distintos métodos que permiten trabajar con el archivo. Algunos de estos métodos son:\n",
    "\n",
    "* `read()`: lee todo el contenido del archivo y lo devuelve como un string.\n",
    "* `readline()`: lee una línea del archivo.\n",
    "* `readlines()`: lee todas las líneas del archivo y las devuelve como una lista de strings.\n",
    "* `write()`: escribe el string que recibe como parámetro en el archivo.\n",
    "* `writelines()`: escribe los strings que recibe como parámetro en el archivo. Recibe una lista de strings.\n",
    "* `close()`: cierra el archivo."
   ]
  },
  {
   "cell_type": "markdown",
   "metadata": {},
   "source": [
    "## 2. Otro método para abrir archivos\n",
    "\n",
    "Otra forma de abrir un archivo es utilizando la sentencia `with`. Esta sentencia permite abrir un archivo, trabajar con él y cerrarlo automáticamente al finalizar. La sintaxis es la siguiente:"
   ]
  },
  {
   "cell_type": "code",
   "execution_count": null,
   "metadata": {},
   "outputs": [],
   "source": [
    "with open(\"texto.txt\", \"r\") as archivo:\n",
    "    contenido = archivo.read()\n",
    "    print(contenido)"
   ]
  },
  {
   "cell_type": "markdown",
   "metadata": {},
   "source": [
    "Esta alternativa es muy útil, ya que nos aseguramos que el archivo se cierre correctamente, incluso si ocurre un error durante el procesamiento."
   ]
  },
  {
   "cell_type": "markdown",
   "metadata": {},
   "source": [
    "## 3. Apertura de imágenes\n",
    "\n",
    "Para trabajar con imágenes, se utiliza la librería `PIL`. Esta librería permite abrir imágenes en distintos formatos, como `jpg`, `png`, `gif`, etc. Para utilizar esta librería, primero se debe instalar. Para ello, se debe ejecutar el siguiente comando en la consola:\n",
    "\n",
    "`pip install pillow`\n",
    "\n",
    "Una vez instalada la librería, se puede utilizar. Para ello, primero se debe importar:"
   ]
  },
  {
   "cell_type": "code",
   "execution_count": null,
   "metadata": {},
   "outputs": [],
   "source": [
    "from PIL import Image\n",
    "\n",
    "imagen = Image.open(\"imagen.png\")\n",
    "imagen.show()"
   ]
  },
  {
   "cell_type": "markdown",
   "metadata": {},
   "source": [
    "Otra libreria para abrir imagenes es `opencv`:\n",
    "\n",
    "`pip install opencv-python`"
   ]
  },
  {
   "cell_type": "code",
   "execution_count": null,
   "metadata": {},
   "outputs": [],
   "source": [
    "import cv2\n",
    "\n",
    "imagen = cv2.imread(\"imagen.png\")\n",
    "cv2.imshow(\"Imagen\", imagen)\n",
    "cv2.waitKey(0)\n",
    "cv2.destroyAllWindows()"
   ]
  },
  {
   "cell_type": "markdown",
   "metadata": {},
   "source": [
    "## 4. Apertura de archivos de audio\n",
    "\n",
    "Para trabajar con archivos de audio, se utiliza la librería `playsound`. Esta librería permite abrir archivos de audio en distintos formatos, como `mp3`, `wav`, `ogg`, etc. Para utilizar esta librería, primero se debe instalar. Para ello, se debe ejecutar el siguiente comando en la consola:\n",
    "\n",
    "`pip install playsound`"
   ]
  },
  {
   "cell_type": "code",
   "execution_count": 1,
   "metadata": {},
   "outputs": [
    {
     "name": "stderr",
     "output_type": "stream",
     "text": [
      "\n",
      "    Error 263 for command:\n",
      "        close audio.mp3\n",
      "    El dispositivo especificado no está abierto o MCI no lo reconoce.\n",
      "Failed to close the file: audio.mp3\n"
     ]
    }
   ],
   "source": [
    "from playsound import playsound\n",
    "\n",
    "playsound(\"audio.mp3\")"
   ]
  },
  {
   "cell_type": "markdown",
   "metadata": {},
   "source": [
    "## 5. Apertura de archivos en formato CSV\n",
    "\n",
    "Para trabajar con archivos en formato CSV, se utiliza la librería `csv`. Esta librería permite abrir archivos en formato CSV y leerlos o escribirlos."
   ]
  },
  {
   "cell_type": "code",
   "execution_count": 10,
   "metadata": {},
   "outputs": [
    {
     "name": "stdout",
     "output_type": "stream",
     "text": [
      "['Lucas', '1234']\n",
      "['Maria', 'M334']\n",
      "['Ana', 'A456A']\n",
      "['Agustin', '98AJPedro', 'PPPP']\n",
      "['Eugenia', '7990']\n"
     ]
    }
   ],
   "source": [
    "from csv import reader\n",
    "\n",
    "with open(\"archivo.csv\", \"r\") as archivo:\n",
    "    contenido = list(reader(archivo))\n",
    "    for linea in contenido:\n",
    "        if linea[0] == \"Usuarios\":\n",
    "            continue\n",
    "        print(linea)"
   ]
  },
  {
   "cell_type": "code",
   "execution_count": 12,
   "metadata": {},
   "outputs": [],
   "source": [
    "from csv import writer\n",
    "\n",
    "with open(\"archivo.csv\", \"r\") as archivo:\n",
    "    contenido_actual = list(reader(archivo))\n",
    "\n",
    "with open(\"archivo.csv\", \"w\", newline='') as archivo:\n",
    "    contenido = writer(archivo)\n",
    "    contenido.writerows(contenido_actual)\n",
    "    contenido.writerow([\"Pedro\", \"PPPP\"])\n",
    "    contenido.writerow([\"Eugenia\", \"7990\"])\n",
    "    "
   ]
  },
  {
   "cell_type": "markdown",
   "metadata": {},
   "source": [
    "## 6. Apertura/escritura de archivos JSON\n",
    "\n",
    "Para trabajar con archivos en formato JSON, se utiliza la librería `json`. Esta librería permite abrir archivos en formato JSON y leerlos o escribirlos."
   ]
  },
  {
   "cell_type": "code",
   "execution_count": 42,
   "metadata": {},
   "outputs": [
    {
     "name": "stdout",
     "output_type": "stream",
     "text": [
      "{'pedidos': [{'id': 1, 'nombre': 'Juan', 'productos': ['Mouse', 'Teclado']}, {'id': 2, 'nombre': 'Ana', 'productos': ['Monitor', 'Parlantes']}, {'id': 3, 'nombre': 'Carlos', 'productos': ['Mouse', 'Parlantes']}]}\n",
      "{'id': 1, 'nombre': 'Juan', 'productos': ['Mouse', 'Teclado']}\n"
     ]
    }
   ],
   "source": [
    "import json\n",
    "\n",
    "pedidos = {\n",
    "    \"pedidos\":[\n",
    "        {\n",
    "            \"id\": 1,\n",
    "            \"nombre\": \"Juan\",\n",
    "            \"productos\": [\"Mouse\", \"Teclado\"]\n",
    "        },\n",
    "        {\n",
    "            \"id\": 2,\n",
    "            \"nombre\": \"Ana\",\n",
    "            \"productos\": [\"Monitor\", \"Parlantes\"]\n",
    "        },\n",
    "        {\n",
    "            \"id\": 3,\n",
    "            \"nombre\": \"Carlos\",\n",
    "            \"productos\": [\"Mouse\", \"Parlantes\"]\n",
    "        }\n",
    "    ]\n",
    "}\n",
    "\n",
    "with open(\"pedidos.json\", \"w\") as archivo:\n",
    "    json.dump(pedidos, archivo, indent=4)\n",
    "    \n",
    "with open(\"pedidos.json\", \"r\") as archivo:\n",
    "    contenido = json.load(archivo)\n",
    "    print(contenido)\n",
    "\n",
    "print(contenido[\"pedidos\"][0])"
   ]
  }
 ],
 "metadata": {
  "kernelspec": {
   "display_name": "Python 3",
   "language": "python",
   "name": "python3"
  },
  "language_info": {
   "codemirror_mode": {
    "name": "ipython",
    "version": 3
   },
   "file_extension": ".py",
   "mimetype": "text/x-python",
   "name": "python",
   "nbconvert_exporter": "python",
   "pygments_lexer": "ipython3",
   "version": "3.11.4"
  }
 },
 "nbformat": 4,
 "nbformat_minor": 2
}
