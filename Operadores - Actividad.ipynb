{
 "cells": [
  {
   "cell_type": "markdown",
   "metadata": {},
   "source": [
    "## Operadores - Actividad"
   ]
  },
  {
   "cell_type": "markdown",
   "metadata": {},
   "source": [
    "1) Pedir al usuario dos números y mostrar por pantalla la suma de ellos."
   ]
  },
  {
   "cell_type": "code",
   "execution_count": 11,
   "metadata": {},
   "outputs": [
    {
     "name": "stdout",
     "output_type": "stream",
     "text": [
      "La suma de 2 más 3 es: 5\n"
     ]
    }
   ],
   "source": [
    "n1 = int(input(\"1 - Ingrese un número: \"))\n",
    "n2 = int(input(\"2 - Ingrese un número: \"))\n",
    "print(f\"La suma de {n1} más {n2} es: {n1+n2}\")"
   ]
  },
  {
   "cell_type": "markdown",
   "metadata": {},
   "source": [
    "2) Calcular el perímetro y área de un rectángulo dada su base y su altura (el usuario debe introducir por teclado los dos valores)."
   ]
  },
  {
   "cell_type": "code",
   "execution_count": 17,
   "metadata": {},
   "outputs": [
    {
     "name": "stdout",
     "output_type": "stream",
     "text": [
      "Para una base de 5 y una Altura de 8 el PERÍMETRO es: 26\n",
      "Para una base de 5 y una Altura de 8 el ÁREA es: 40\n"
     ]
    }
   ],
   "source": [
    "base = int(input(\"Ingrese el largo de la Base: \"))\n",
    "altura = int(input(\"Ingrese el largo de la Altura: \"))\n",
    "print(f\"Para una base de {base} y una Altura de {altura} el PERÍMETRO es: {base*2+altura*2}\")\n",
    "print(f\"Para una base de {base} y una Altura de {altura} el ÁREA es: {base*altura}\")"
   ]
  },
  {
   "cell_type": "markdown",
   "metadata": {},
   "source": [
    "3) Calcular el resultado de elevar un número entero a otro número entero (por ejemplo, 5 elevado a 3 = 5^3 = 5*5*5)."
   ]
  },
  {
   "cell_type": "code",
   "execution_count": 16,
   "metadata": {},
   "outputs": [
    {
     "name": "stdout",
     "output_type": "stream",
     "text": [
      "El número 2 elevado a la 5° es:  32\n"
     ]
    }
   ],
   "source": [
    "print(f\"El número {n1} elevado a la 5° es:  {n1**5}\")"
   ]
  },
  {
   "cell_type": "markdown",
   "metadata": {},
   "source": [
    "4) Escribe un programa que convierta grados Celsius a grados Fahrenheit utilizando la fórmula: **F = (C * 9/5) + 32**"
   ]
  },
  {
   "cell_type": "code",
   "execution_count": 20,
   "metadata": {},
   "outputs": [
    {
     "name": "stdout",
     "output_type": "stream",
     "text": [
      "25.3° Celsius, son 77.54° Fahrenheit\n"
     ]
    }
   ],
   "source": [
    "cels = float(input(\"Ingrese grados Celcius: \"))\n",
    "fahr = (cels*9/5)+32\n",
    "print(f\"{cels}° Celsius, son {fahr}° Fahrenheit\")\n"
   ]
  },
  {
   "cell_type": "markdown",
   "metadata": {},
   "source": [
    "5) Pedir al usuario su edad y mostrar por pantalla si es mayor de edad o no. (Mayor de edad >= 18)"
   ]
  },
  {
   "cell_type": "code",
   "execution_count": 21,
   "metadata": {},
   "outputs": [
    {
     "name": "stdout",
     "output_type": "stream",
     "text": [
      "Edad: 25 años, es MAYOR de Edad\n"
     ]
    }
   ],
   "source": [
    "edad = int(input(\"Ingrese su edad: \"))\n",
    "if edad >= 18:\n",
    "    print(f\"Edad: {edad} años, es MAYOR de Edad\")\n",
    "else:\n",
    "    print(f\"Edad: {edad} años, es MENOR de Edad\")"
   ]
  },
  {
   "cell_type": "markdown",
   "metadata": {},
   "source": [
    "6) Comprobar si el numero ingresado por el usuario es par o impar."
   ]
  },
  {
   "cell_type": "code",
   "execution_count": 26,
   "metadata": {},
   "outputs": [
    {
     "name": "stdout",
     "output_type": "stream",
     "text": [
      "El número: 28 es PAR\n"
     ]
    }
   ],
   "source": [
    "n3 = int(input(\"Ingrese un número: \"))\n",
    "if n3%2 == 0:\n",
    "    print(f\"El número: {n3} es PAR\")\n",
    "else:\n",
    "    print(f\"El número: {n3} es IMPAR\")"
   ]
  },
  {
   "cell_type": "markdown",
   "metadata": {},
   "source": [
    "7) Pedir al usuario que ingrese su dirección email y luego mostrar un mensaje indicando si la dirección es válida o no. Una dirección se considerará válida si contiene el símbolo \"@\"."
   ]
  },
  {
   "cell_type": "code",
   "execution_count": 37,
   "metadata": {},
   "outputs": [
    {
     "name": "stdout",
     "output_type": "stream",
     "text": [
      "odaziano@gamil.com \n",
      "Dirección de correo válida\n"
     ]
    }
   ],
   "source": [
    "e_mail = str(input(\"Ingrese su dirección de e-mail: \"))\n",
    "if \"@\" in e_mail:\n",
    "    print(f\"{e_mail} \\nDirección de correo válida\")\n",
    "else:\n",
    "    print(f\"{e_mail} \\nDirección de correo inválida\")"
   ]
  },
  {
   "cell_type": "markdown",
   "metadata": {},
   "source": [
    "8) Dado un número de dos cifras, diseñe un algoritmo que permita obtener el número invertido. Ejemplo, si se introduce 23 que muestre 32. (Recordar que las cadenas pueden tratarse como listas de caracteres)."
   ]
  },
  {
   "cell_type": "code",
   "execution_count": 92,
   "metadata": {},
   "outputs": [
    {
     "name": "stdout",
     "output_type": "stream",
     "text": [
      "El número invertido es: 98\n",
      "La clase del número ingresado es: <class 'int'>\n"
     ]
    }
   ],
   "source": [
    "lista_n = [\"0\",\"1\",\"2\",\"3\",\"4\",\"5\",\"6\",\"7\",\"8\",\"9\"]\n",
    "n4 = str(input(\"Ingrese un número de dos cifras: \"))\n",
    "if len(n4)!=2:\n",
    "    print(\"El número no es válido, debe contener 2 dígitos\")\n",
    "elif n4[1] not in lista_n or n4[0] not in lista_n:\n",
    "    print(\"El número no es válido, debe ingresar 2 números\")\n",
    "else:\n",
    "    print(f\"El número invertido es: {n4[1]+n4[0]}\")\n",
    "    n4=int(n4)\n",
    "    print(\"La clase del número ingresado es: \"+str(type(n4)))"
   ]
  },
  {
   "cell_type": "markdown",
   "metadata": {},
   "source": [
    "9) Crea un programa que pida al usuario dos números y muestre True si ambos son mayores que 10."
   ]
  },
  {
   "cell_type": "code",
   "execution_count": 95,
   "metadata": {},
   "outputs": [
    {
     "name": "stdout",
     "output_type": "stream",
     "text": [
      "True\n"
     ]
    }
   ],
   "source": [
    "n5 = int(input(\"Ingrese un número, mayor que 10: \"))\n",
    "n6 = int(input(\"Ingrese otro número, mayor que 10: \"))\n",
    "comparacion = n5 and n6 > 10\n",
    "print(comparacion)"
   ]
  },
  {
   "cell_type": "markdown",
   "metadata": {},
   "source": [
    "10) Escribe un programa que verifique si un número ingresado por el usuario es divisible por 3 y por 5."
   ]
  },
  {
   "cell_type": "code",
   "execution_count": 123,
   "metadata": {},
   "outputs": [
    {
     "name": "stdout",
     "output_type": "stream",
     "text": [
      "15, es divisible por 3 y por 5\n"
     ]
    }
   ],
   "source": [
    "n7 = int(input(\"Ingrese un número: \"))\n",
    "if n7%3 == 0 and n7%5 == 0:\n",
    "    print(f\"{n7}, es divisible por 3 y por 5\")\n",
    "elif n7%3 == 0:\n",
    "    print(f\"{n7}, es sólo divisible por 3\")\n",
    "elif n7%5 == 0:\n",
    "    print(f\"{n7}, es sólo divisible por 5\")\n",
    "else:\n",
    "    print(f\"{n7}, NO es divisible por 3 ni por 5\")"
   ]
  },
  {
   "cell_type": "markdown",
   "metadata": {},
   "source": [
    "11) Utilizando la información del punto 5, preguntar al usuario si posee carnet de conducir, luego verificar si puede conducir un automóvil."
   ]
  },
  {
   "cell_type": "code",
   "execution_count": 7,
   "metadata": {},
   "outputs": [
    {
     "name": "stdout",
     "output_type": "stream",
     "text": [
      "Edad: 25 años, es MAYOR de Edad\n",
      "Es MAYOR de edad, NO tiene Carnet, NO puede conducir\n"
     ]
    }
   ],
   "source": [
    "edad = int(input(\"Ingrese su edad: \"))\n",
    "carnet = \"  \"\n",
    "\n",
    "if edad >= 18 and carnet:\n",
    "    print(f\"Edad: {edad} años, es MAYOR de Edad\")\n",
    "    carnet = str(input(\"Tiene Carnet de conducir?: \"))\n",
    "    if carnet == \"si\":\n",
    "        print(\"Es MAYOR de edad, SÍ tiene Carnet, puede conducir\")\n",
    "    else:\n",
    "        print(\"Es MAYOR de edad, NO tiene Carnet, NO puede conducir\")\n",
    "else:\n",
    "    print(f\"Edad: {edad} años, es MENOR de Edad\")\n",
    "\n"
   ]
  },
  {
   "cell_type": "markdown",
   "metadata": {},
   "source": [
    "12) Pide al usuario un número y verifica si es positivo y no es mayor que 100."
   ]
  },
  {
   "cell_type": "code",
   "execution_count": 26,
   "metadata": {},
   "outputs": [
    {
     "name": "stdout",
     "output_type": "stream",
     "text": [
      "El número 56 es positivo y menor a 100  OK!\n"
     ]
    }
   ],
   "source": [
    "n8 = int(input(\"Ingrese un número: \"))\n",
    "if n8 > 0 and n8 < 100:\n",
    "    print(\"El número\", n8, \"es positivo y menor a 100  OK!\") \n",
    "else:\n",
    "    if n8 < 0:\n",
    "        print(\"El número\", n8, \"es negativo\")\n",
    "    elif n8 > 100:\n",
    "        print(\"El número\", n8, \"es mayor a 100\")"
   ]
  },
  {
   "cell_type": "markdown",
   "metadata": {},
   "source": [
    "13) Crear un programa que valide si un número ingresado por el usuario es par y mayor que 20."
   ]
  },
  {
   "cell_type": "code",
   "execution_count": 1,
   "metadata": {},
   "outputs": [
    {
     "name": "stdout",
     "output_type": "stream",
     "text": [
      "El número 89 es impar\n"
     ]
    }
   ],
   "source": [
    "n9 = int(input(\"Ingrese un número: \"))\n",
    "if n9 % 2 == 0 and n9 > 20:\n",
    "    print(\"El número\", n9, \"es par y mayor a 20  OK!\") \n",
    "else:\n",
    "    if n9 % 2 != 0:\n",
    "        print(\"El número\", n9, \"es impar\")\n",
    "    elif n < 20:\n",
    "        print(\"El número\", n9, \"es menor a 20\")"
   ]
  },
  {
   "cell_type": "markdown",
   "metadata": {},
   "source": [
    "14) Dada la variable **numero = 5**, realizar la operación necesaria para que número sea igual a 8. Luego imprimir en pantalla el nuevo valor de número y realizar una nueva operación para que el valor de número sea igual a 4 y mostrar en pantalla el nuevo valor."
   ]
  },
  {
   "cell_type": "code",
   "execution_count": 3,
   "metadata": {},
   "outputs": [
    {
     "name": "stdout",
     "output_type": "stream",
     "text": [
      "8\n",
      "4\n"
     ]
    }
   ],
   "source": [
    "n10 = 5\n",
    "n10 += 3\n",
    "print(n10)\n",
    "n10 -= 4\n",
    "print(n10)"
   ]
  },
  {
   "cell_type": "markdown",
   "metadata": {},
   "source": [
    "15) Dadas las variables altura = \"10\" y base = 5, calcular el área de un triángulo y mostrar el resultado en pantalla. ¿Por qué el resultado es un error? ¿Cómo lo corregirías?"
   ]
  },
  {
   "cell_type": "code",
   "execution_count": 6,
   "metadata": {},
   "outputs": [
    {
     "name": "stdout",
     "output_type": "stream",
     "text": [
      "Área del triángulo es: 25.0\n"
     ]
    }
   ],
   "source": [
    "altura_triangulo = \"10\"\n",
    "base_triangulo = 5\n",
    "# La altura está expresada como una cadena de caracteres, hay que transformarla a un número entero\n",
    "area_triangulo = base_triangulo*int(altura_triangulo)/2\n",
    "print(\"Área del triángulo es:\",area_triangulo)"
   ]
  },
  {
   "cell_type": "markdown",
   "metadata": {},
   "source": [
    "16) Crea un programa que calcule el promedio de tres calificaciones ingresadas por el usuario, y comprobar si el alumno aprobó o no (aprueba con nota mayor a 6)."
   ]
  },
  {
   "cell_type": "code",
   "execution_count": 28,
   "metadata": {},
   "outputs": [
    {
     "name": "stdout",
     "output_type": "stream",
     "text": [
      "7\n",
      "Aprobo! con promedio de: 7\n"
     ]
    }
   ],
   "source": [
    "nota1 = int(input(\"Ingrese nota 1:\"))\n",
    "nota2 = int(input(\"Ingrese nota 2:\"))\n",
    "nota3 = int(input(\"Ingrese nota 3:\"))\n",
    "promedio = (nota1+nota2+nota3)//3\n",
    "print(promedio)\n",
    "\n",
    "if nota1 <0 or nota1>10 or nota2 <0 or nota2>10 or nota3 <0 or nota3>10:\n",
    "    print(\"Alguna/s nota/s no son válida/s: \" \"  Nota 1: \",nota1,\"  Nota 2: \",nota2,\"  Nota 3: \",nota3)\n",
    "else:\n",
    "    if promedio >= 6:\n",
    "        print(\"Aprobo! con promedio de:\",promedio)\n",
    "    else:\n",
    "        print(\"Desaprobado, su promedio es\", promedio)"
   ]
  },
  {
   "cell_type": "markdown",
   "metadata": {},
   "source": [
    "17) Pide al usuario su edad y calcula cuántos días, horas y minutos ha vivido aproximadamente (asumiendo 365 días por año)."
   ]
  },
  {
   "cell_type": "code",
   "execution_count": 35,
   "metadata": {},
   "outputs": [
    {
     "name": "stdout",
     "output_type": "stream",
     "text": [
      "Usted ha vivido:    Días: 24090    Horas: 578160   Minutos: 34689600\n"
     ]
    }
   ],
   "source": [
    "su_edad = int(input(\"Ingrese su edad:\"))\n",
    "dias = su_edad*365\n",
    "horas = dias*24\n",
    "minutos = horas*60\n",
    "print(\"Usted ha vivido:\",\"   Días:\",dias,\"   Horas:\",horas,\"  Minutos:\",minutos)\n"
   ]
  },
  {
   "cell_type": "markdown",
   "metadata": {},
   "source": [
    "18) Crea un programa que verifique si un número ingresado por el usuario es múltiplo de 4 y de 6 al mismo tiempo."
   ]
  },
  {
   "cell_type": "code",
   "execution_count": 40,
   "metadata": {},
   "outputs": [
    {
     "name": "stdout",
     "output_type": "stream",
     "text": [
      "89, NO es múltiplo de 4 ni de 6\n"
     ]
    }
   ],
   "source": [
    "n11 = int(input(\"Ingrese un número: \"))\n",
    "if n11%4 == 0 and n11%6 == 0:\n",
    "    print(f\"{n11}, es múltiplo de 4 y de 6\")\n",
    "elif n11%4 == 0:\n",
    "    print(f\"{n11}, es sólo múltiplo de 4\")\n",
    "elif n11%6 == 0:\n",
    "    print(f\"{n11}, es sólo múltiplo de 6\")\n",
    "else:\n",
    "    print(f\"{n11}, NO es múltiplo de 4 ni de 6\")"
   ]
  },
  {
   "cell_type": "markdown",
   "metadata": {},
   "source": [
    "19) "
   ]
  }
 ],
 "metadata": {
  "kernelspec": {
   "display_name": "Python 3",
   "language": "python",
   "name": "python3"
  },
  "language_info": {
   "codemirror_mode": {
    "name": "ipython",
    "version": 3
   },
   "file_extension": ".py",
   "mimetype": "text/x-python",
   "name": "python",
   "nbconvert_exporter": "python",
   "pygments_lexer": "ipython3",
   "version": "3.12.0"
  }
 },
 "nbformat": 4,
 "nbformat_minor": 2
}
